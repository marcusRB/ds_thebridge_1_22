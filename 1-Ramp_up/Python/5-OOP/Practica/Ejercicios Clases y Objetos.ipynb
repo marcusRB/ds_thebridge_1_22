{
 "cells": [
  {
   "cell_type": "markdown",
   "metadata": {},
   "source": [
    "![imagen](./img/ejercicios.png)\n",
    "\n",
    "# Ejercicios Clases y Objetos"
   ]
  },
  {
   "cell_type": "markdown",
   "metadata": {},
   "source": [
    "## Ejercicio 1\n",
    "Somos una empresa que tiene varias tiendas de electrodomesticos. Necesitamos un programa para manejar las tiendas, ver las ventas que han tenido, cuántos empleados hay, etc... Para ello vamos a modelizar la tienda en una clase, que tendrá las siguientes características:\n",
    "* Nombre clase: \"Tienda\"\n",
    "* Atributos comunes:\n",
    "    * Tipo: \"Electrodomésticos\"\n",
    "    * Abierta: True\n",
    "* Atributos propios de cada tienda:\n",
    "    * Nombre - String\n",
    "    * Dirección - String\n",
    "    * Número de empleados - int\n",
    "    * Ventas ultimos 3 meses - Lista de 3 numeros\n",
    "* Método para calcular las ventas de todos los meses, que devuelva un numero con todas las ventas.\n",
    "* Método que calcula la media de ventas de los ultimos meses, por empleado\n",
    "* Método que devuelve en un string el nombre de la tienda, junto con su dirección.\n",
    "* Método que obtiene las ventas del último mes.\n",
    "* Método para dar una proyección de las ventas en caso de haber invertido X dinero en marketing en esa tienda. Siendo X el parámetro de entrada. Si X es menor de 1000, las ventas de los ultimos 3 meses hubiesen sido de (1.2 x ventas), si es mayor o igual de 1000, las ventas hubiesen sido de (1.5 x venta). El método reescribe el atributo de ventas en los últimos 3 meses, y además devuelve las ventas con el aumento.\n",
    "\n",
    "Se pide:\n",
    "1. Implementar la clase \"Tienda\"\n",
    "2. Crear tres tiendas con datos inventados\n",
    "3. Comprueba en al menos una de ellas, todo lo implementado en la clase tienda (sus atributos, media de ventas, ventas/empleado...)\n",
    "3. Calcular las ventas del último mes de todas las tiendas. Para ello usa el bucle `for`\n",
    "4. Imprime por pantalla los nombres de las tiendas cuya dirección lleve el string \"Avenida\"\n",
    "5. Seguro que ya has hecho este apartado... Documenta la clase :)"
   ]
  },
  {
   "cell_type": "code",
   "execution_count": 65,
   "metadata": {},
   "outputs": [],
   "source": [
    "class Tienda:\n",
    "    '''\n",
    "    Clase con con los componentes de una tienda de electrodomésticos\n",
    "    Atributos:\n",
    "        tipo = \"Electrodomesticos\" -> String\n",
    "        abierta = True -> Bool\n",
    "    '''\n",
    "\n",
    "    abierta = True\n",
    "    tipo = \"Electrodomesticos\"\n",
    "    pi = 3.14\n",
    "    # __var_estatica = 10\n",
    "\n",
    "    def __init__(self, nombre, direccion, n_empleados, ventas_3m):\n",
    "        '''\n",
    "        Atributos particulares de una tienda\n",
    "        Input:\n",
    "            nombre : string\n",
    "            direccion: string\n",
    "            n_empleados: int\n",
    "            ventas_3m: list\n",
    "        '''\n",
    "        self.nombre =  nombre\n",
    "        self.direccion =  direccion\n",
    "        self.n_empleados =  n_empleados\n",
    "        self.ventas_3m =  ventas_3m\n",
    "        \n",
    "    # Para checkear las variables estaticas\n",
    "    # def metodo_estatico(self):\n",
    "    #     return self.__var_estatica\n",
    "\n",
    "    def tot_ventas(self):\n",
    "        '''\n",
    "        Metodo que suma todas las ventas de la tienda\n",
    "        Output:\n",
    "            total de ventas -> float/int\n",
    "        '''\n",
    "        return sum(self.ventas_3m)\n",
    "\n",
    "    def media_ventas(self):\n",
    "        '''\n",
    "        Metodo que calcula la media de las ventas por empleado\n",
    "        Output:\n",
    "            media ventas -> float\n",
    "        '''\n",
    "        return self.tot_ventas()/self.n_empleados\n",
    "\n",
    "    def nombre_direc(self):\n",
    "        '''\n",
    "        Metodo que muestra por pantalla el nombre y direccion de la tienda\n",
    "        Output:\n",
    "            string\n",
    "        '''\n",
    "        return \"Nombre tienda: \" + self.nombre + \"\\nDireccion: \" + self.direccion\n",
    "\n",
    "    def ventas_ult_mes(self):\n",
    "        '''\n",
    "        Metodo que devuelve el ultimo mes de ventas\n",
    "        Output:\n",
    "            float/int\n",
    "        '''\n",
    "        return self.ventas_3m[-1]\n",
    "    \n",
    "    \n",
    "    def proyec_marketing(self, marketing):\n",
    "        '''\n",
    "        Metodo que da una proyección de las ventas de la tienda en función a la inversion de marketing. \n",
    "        Si es mayor a 1000 proyectará las ventas con un x1.5, en cambio sino será de un x1.2.\n",
    "\n",
    "        Input:\n",
    "            marketing: cantidad invertida en marketing -> float/int\n",
    "        Output:\n",
    "            lista de proyección de ventas -> list\n",
    "        '''\n",
    "\n",
    "        for i in range(len(self.ventas_3m)):\n",
    "\n",
    "            if marketing < 1000:\n",
    "                self.ventas_3m[i] = self.ventas_3m[i] * 1.2\n",
    "\n",
    "            else:\n",
    "                self.ventas_3m[i] = self.ventas_3m[i] * 1.5\n",
    "\n",
    "        return self.ventas_3m   \n",
    "    \n",
    "\n"
   ]
  },
  {
   "cell_type": "code",
   "execution_count": 58,
   "metadata": {},
   "outputs": [],
   "source": [
    "# mi_tienda = Tienda(\"Thebridge\", \"Recoletos15\", 4, [1000, 1500, 1200])\n",
    "\n",
    "# print(mi_tienda.metodo_estatico())\n",
    "# print(mi_tienda.__var_estatica)"
   ]
  },
  {
   "cell_type": "code",
   "execution_count": 31,
   "metadata": {},
   "outputs": [
    {
     "name": "stdout",
     "output_type": "stream",
     "text": [
      "3700\n",
      "925.0\n",
      "Nombre tienda: Thebridge\n",
      "Direccion: Recoletos15\n",
      "1200\n",
      "[1500.0, 2250.0, 1800.0]\n",
      "[1500.0, 2250.0, 1800.0]\n"
     ]
    }
   ],
   "source": [
    "mi_tienda = Tienda(\"Thebridge\", \"Recoletos15\", 4, [1000, 1500, 1200])\n",
    "\n",
    "print(mi_tienda.tot_ventas())\n",
    "\n",
    "print(mi_tienda.media_ventas())\n",
    "\n",
    "print(mi_tienda.nombre_direc())\n",
    "\n",
    "print(mi_tienda.ventas_ult_mes())\n",
    "\n",
    "print(mi_tienda.proyec_marketing(1000))\n",
    "print(mi_tienda.ventas_3m)\n",
    "\n"
   ]
  },
  {
   "cell_type": "code",
   "execution_count": 62,
   "metadata": {},
   "outputs": [],
   "source": [
    "tienda_1 = Tienda(\"Thebridge1\", \"Paseo Recoletos 15\", 4, [1000, 1500, 1200])\n",
    "tienda_2 = Tienda(\"Thebridge2\", \"Avenida de l'Almodí, 1\", 6, [1900, 1100, 1500])\n",
    "tienda_3 = Tienda(\"Thebridge3\", \"Calle del Prim 11\", 2, [900, 700, 1100])"
   ]
  },
  {
   "cell_type": "code",
   "execution_count": 38,
   "metadata": {},
   "outputs": [
    {
     "data": {
      "text/plain": [
       "__main__.Tienda"
      ]
     },
     "execution_count": 38,
     "metadata": {},
     "output_type": "execute_result"
    }
   ],
   "source": [
    "type(tienda_1)"
   ]
  },
  {
   "cell_type": "code",
   "execution_count": 37,
   "metadata": {},
   "outputs": [
    {
     "name": "stdout",
     "output_type": "stream",
     "text": [
      "3800\n"
     ]
    }
   ],
   "source": [
    "tot_tiendas = [tienda_1, tienda_2, tienda_3]\n",
    "\n",
    "total_ventas = 0\n",
    "\n",
    "for i in tot_tiendas:\n",
    "    total_ventas = total_ventas + i.ventas_ult_mes()\n",
    "\n",
    "print(total_ventas)"
   ]
  },
  {
   "cell_type": "code",
   "execution_count": 41,
   "metadata": {},
   "outputs": [
    {
     "name": "stdout",
     "output_type": "stream",
     "text": [
      "[1200, 1500, 1100]\n"
     ]
    }
   ],
   "source": [
    "tot_tiendas = [tienda_1, tienda_2, tienda_3]\n",
    "\n",
    "ventas_tiendas_ult_mes = []\n",
    "\n",
    "for i in tot_tiendas:\n",
    "    ventas_tiendas_ult_mes.append(i.ventas_ult_mes()) \n",
    "\n",
    "print(ventas_tiendas_ult_mes)"
   ]
  },
  {
   "cell_type": "code",
   "execution_count": 63,
   "metadata": {},
   "outputs": [
    {
     "name": "stdout",
     "output_type": "stream",
     "text": [
      "Thebridge2\n"
     ]
    }
   ],
   "source": [
    "tot_tiendas = [tienda_1, tienda_2, tienda_3]\n",
    "for i in tot_tiendas:\n",
    "    if \"avenida\" in i.direccion.lower():\n",
    "        print(i.nombre)"
   ]
  },
  {
   "cell_type": "markdown",
   "metadata": {},
   "source": [
    "## Ejercicio 2\n",
    "En este ejercicio vamos a implementar una clase *Perro* en Python. La clase tiene las siguientes características:\n",
    "* Cosas que sabemos seguro que tiene un perro\n",
    "    * Tiene 4 patas\n",
    "    * 2 orejas\n",
    "    * 2 ojos\n",
    "    * Una velocidad de 0. Por defecto, el perro está parado\n",
    "* Cuando se inicialice:\n",
    "    * El perro será de una determinada raza\n",
    "    * Por defecto tendrá pelo \"Marrón\", a no ser que se diga lo contrario.\n",
    "    * Por defecto no tendrá dueño, a no ser que se diga lo contrario.\n",
    "    \n",
    "* Dispondrá también de un método llamado andar, que tiene un argumento de entrada (aumento_velocidad). Este valor se le sumará a la velocidad que ya llevaba el perro.\n",
    "* Necesita otro método (parar), donde pondremos la velocidad a 0.\n",
    "* Otro método llamado \"ladrar\", que tendrá un argumento de entrada, y la salida será el siguiente string: \"GUAU!\" + el argumento de entrada.\n",
    "\n",
    "\n",
    "Se pide:\n",
    "* Implementa la clase *Perro*\n",
    "* Crea un objeto de tipo *Perro*, sin dueño\n",
    "* Comprueba que están bien todos sus atributos\n",
    "* Prueba que ande, y comprueba su velocidad\n",
    "* Páralo\n",
    "* Documenta la clase *Perro*"
   ]
  },
  {
   "cell_type": "code",
   "execution_count": 79,
   "metadata": {},
   "outputs": [],
   "source": [
    "class Perro():\n",
    "    '''\n",
    "    Clase de perro ejemplo\n",
    "    Atributos generales:\n",
    "        patas = 4 -> int\n",
    "        orejas = 2 -> int\n",
    "        ojos = 2 -> int \n",
    "        velocidad = 0 -> int\n",
    "    '''\n",
    "    patas = 4\n",
    "    orejas = 2\n",
    "    ojos = 2\n",
    "    velocidad = 0\n",
    "\n",
    "    def __init__(self, raza, pelo = \"Marron\", duenio = False):\n",
    "        '''\n",
    "        Los perros se diferencian unos de otros por los siguientes atributos particulares\n",
    "        Inputs:\n",
    "            raza -> string\n",
    "            pelo -> string (\"Marron\" por defecto)\n",
    "            duenio -> bool (False por defecto)\n",
    "        '''\n",
    "        self.raza = raza\n",
    "        self.pelo = pelo\n",
    "        self.duenio = duenio\n",
    "    \n",
    "    def andar(self, aumento_velocidad):\n",
    "        '''\n",
    "        Aumenta el atributo de velocidad\n",
    "        Input:\n",
    "            aumento_velocidad -> float/int\n",
    "        Output:\n",
    "            velocidad -> float/int\n",
    "        '''\n",
    "        self.velocidad = self.velocidad + aumento_velocidad\n",
    "        return self.velocidad\n",
    "    \n",
    "    def parar(self):\n",
    "        '''\n",
    "        Detenemos y ponemos el atributo de velocidad a 0\n",
    "        Output:\n",
    "            velocidad = 0\n",
    "        '''\n",
    "        self.velocidad = 0\n",
    "        return self.velocidad\n",
    "\n",
    "    def ladrar(self, mensaje):\n",
    "        '''\n",
    "        Metodo que devuelve un mensaje\n",
    "        Input:\n",
    "            mensaje -> string\n",
    "        Output:\n",
    "            string\n",
    "        '''\n",
    "        print(\"GUAU!\" + mensaje + \".Me voy con mis \" + str(self.patas) + \" patas\")\n",
    "        return self.patas + 1  "
   ]
  },
  {
   "cell_type": "code",
   "execution_count": 77,
   "metadata": {},
   "outputs": [
    {
     "name": "stdout",
     "output_type": "stream",
     "text": [
      "0\n",
      "5\n",
      "5\n",
      "0\n",
      "0\n",
      "GUAU!Hasta otra.Me voy con mis 4 patas\n",
      "5\n"
     ]
    }
   ],
   "source": [
    "mi_sanbernardo = Perro(\"San bernando\")\n",
    "\n",
    "# print(mi_sanbernardo.ojos)\n",
    "# print(mi_sanbernardo.pelo)\n",
    "\n",
    "print(mi_sanbernardo.velocidad)\n",
    "print(mi_sanbernardo.andar(5))\n",
    "print(mi_sanbernardo.velocidad)\n",
    "print(mi_sanbernardo.parar())\n",
    "print(mi_sanbernardo.velocidad)\n",
    "print(mi_sanbernardo.ladrar(\"Hasta otra\"))"
   ]
  },
  {
   "cell_type": "code",
   "execution_count": 80,
   "metadata": {},
   "outputs": [
    {
     "name": "stdout",
     "output_type": "stream",
     "text": [
      "\n",
      "    Clase de perro ejemplo\n",
      "    Atributos generales:\n",
      "        patas = 4 -> int\n",
      "        orejas = 2 -> int\n",
      "        ojos = 2 -> int \n",
      "        velocidad = 0 -> int\n",
      "    \n"
     ]
    }
   ],
   "source": [
    "print(Perro.__doc__)"
   ]
  },
  {
   "cell_type": "code",
   "execution_count": null,
   "metadata": {},
   "outputs": [],
   "source": []
  }
 ],
 "metadata": {
  "kernelspec": {
   "display_name": "Python 3",
   "language": "python",
   "name": "python3"
  },
  "language_info": {
   "codemirror_mode": {
    "name": "ipython",
    "version": 3
   },
   "file_extension": ".py",
   "mimetype": "text/x-python",
   "name": "python",
   "nbconvert_exporter": "python",
   "pygments_lexer": "ipython3",
   "version": "3.7.4"
  }
 },
 "nbformat": 4,
 "nbformat_minor": 4
}
