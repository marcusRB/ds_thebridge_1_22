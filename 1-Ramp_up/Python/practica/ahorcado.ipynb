{
 "cells": [
  {
   "cell_type": "markdown",
   "metadata": {},
   "source": [
    "## Juego del Ahorcado"
   ]
  },
  {
   "cell_type": "markdown",
   "metadata": {},
   "source": [
    "El funcionamiento es que vaya mostrando por pantalla ```_ _ _ _ _``` las rayas bajas correspondientes al número de letras que tiene la palabra a adivinar. El usuario deberá insertar una letra y, si esa letra existe, se mostrará o mostrarán las letras acertadas ```S _ S _ _```. \n",
    "\n",
    "Si falla, se mostrará el número de errores que lleva y, si lleva 6 errores, entonces se mostrará \"Fin del juego\""
   ]
  },
  {
   "cell_type": "code",
   "execution_count": 2,
   "metadata": {},
   "outputs": [
    {
     "name": "stdout",
     "output_type": "stream",
     "text": [
      "B _ _ _ _ _ _ _\n",
      "B _ _ T _ _ _ _\n",
      "B _ _ T _ _ _ _\n",
      "Has fallado, llevas 1 fallos\n",
      "B _ _ T _ _ _ _\n",
      "Has fallado, llevas 2 fallos\n",
      "B _ _ T _ _ _ _\n",
      "B _ _ T _ A _ _\n",
      "Has fallado, llevas 3 fallos\n",
      "B _ _ T _ A _ _\n",
      "B _ _ T _ A _ P\n",
      "B _ _ T _ A _ P\n",
      "Has fallado, llevas 4 fallos\n",
      "B _ _ T _ A _ P\n",
      "B _ _ T _ A _ P\n",
      "B _ _ T _ A _ P\n",
      "Has fallado, llevas 5 fallos\n",
      "B _ _ T _ A _ P\n",
      "Has fallado, llevas 6 fallos\n",
      "Game over\n",
      "B _ _ T _ A _ P\n"
     ]
    }
   ],
   "source": [
    "import time \n",
    "\n",
    "# Introduce el usuario lapalabra\n",
    "palabra_adivinar = input(\"Introduzca la palabra a adivinar\").upper()\n",
    "\n",
    "# Transformamos la palabra a una lista de caracteres ocultos (_)\n",
    "lista_caracteres_ocultos = []\n",
    "for char in palabra_adivinar:\n",
    "    lista_caracteres_ocultos.append('_')\n",
    "\n",
    "# Inicializamos fallos\n",
    "fallos = 0\n",
    "\n",
    "while fallos <= 5: # Mientras nos queden fallos seguimos en el juego\n",
    "    time.sleep(1)\n",
    "    letra_usuario = input(\"Introduzca una letra\").upper()  # Introduce el usuario la letra\n",
    "    # Comprobamos si la letra se encuentra, buscamos en qué posicion se encuentra, y aquellos que coincidan, sustituiremos el valor de esa letra en su posicion\n",
    "    if letra_usuario in palabra_adivinar:\n",
    "        for pos, letra in enumerate(palabra_adivinar):\n",
    "            if letra == letra_usuario:\n",
    "                lista_caracteres_ocultos[pos] = letra_usuario\n",
    "    # Actualizamos la variable fallos, si llegamos a 6 se parará el bucle y mostrará por pantalla game over\n",
    "    else: \n",
    "        fallos = fallos + 1\n",
    "        print(\"Has fallado, llevas \" + str(fallos) + ' fallos')\n",
    "        if fallos == 6:\n",
    "            print(\"Game over\")\n",
    "    # En cada letra se muestra la palabra oculta con las letras acertadas\n",
    "    print(' '.join(lista_caracteres_ocultos))\n",
    "\n",
    "    # Si no encuentra letras por adivinar, has ganado\n",
    "    if '_' not in lista_caracteres_ocultos:\n",
    "        print(\"Well done\")\n",
    "        break"
   ]
  },
  {
   "cell_type": "code",
   "execution_count": 3,
   "metadata": {},
   "outputs": [],
   "source": [
    "def hide_characters(palabra):\n",
    "    lista_caracteres_ocultos = []\n",
    "    for char in palabra:\n",
    "        lista_caracteres_ocultos.append('_')\n",
    "    return lista_caracteres_ocultos"
   ]
  },
  {
   "cell_type": "code",
   "execution_count": 10,
   "metadata": {},
   "outputs": [],
   "source": [
    "def play_ahorcado(palabra, vidas):\n",
    "\n",
    "    lista_oculta = hide_characters(palabra)\n",
    "\n",
    "    # Inicializamos fallos\n",
    "    fallos = 0\n",
    "\n",
    "    while fallos < vidas: # Mientras nos queden fallos seguimos en el juego\n",
    "        time.sleep(1)\n",
    "        letra_usuario = input(\"Introduzca una letra\").upper()  # Introduce el usuario la letra\n",
    "        # Comprobamos si la letra se encuentra, buscamos en qué posicion se encuentra, y aquellos que coincidan, sustituiremos el valor de esa letra en su posicion\n",
    "        if letra_usuario in palabra:\n",
    "            for pos, letra in enumerate(palabra):\n",
    "                if letra == letra_usuario:\n",
    "                    lista_oculta[pos] = letra_usuario\n",
    "        # Actualizamos la variable fallos, si llegamos a 6 se parará el bucle y mostrará por pantalla game over\n",
    "        else: \n",
    "            fallos = fallos + 1\n",
    "            print(\"Has fallado, llevas \" + str(fallos) + ' fallos')\n",
    "            if fallos == vidas:\n",
    "                print(\"Game over\")\n",
    "        # En cada letra se muestra la palabra oculta con las letras acertadas\n",
    "        print(' '.join(lista_oculta))\n",
    "\n",
    "        # Si no encuentra letras por adivinar, has ganado\n",
    "        if '_' not in lista_oculta:\n",
    "            print(\"Well done\")\n",
    "            break"
   ]
  },
  {
   "cell_type": "code",
   "execution_count": 12,
   "metadata": {},
   "outputs": [
    {
     "name": "stdout",
     "output_type": "stream",
     "text": [
      "Has fallado, llevas 1 fallos\n",
      "Game over\n",
      "_\n"
     ]
    }
   ],
   "source": [
    "# Introduce el usuario lapalabra\n",
    "palabra_adivinar = input(\"Introduzca la palabra a adivinar\").upper()\n",
    "\n",
    "play_ahorcado(palabra_adivinar, 1)"
   ]
  },
  {
   "cell_type": "code",
   "execution_count": 14,
   "metadata": {},
   "outputs": [
    {
     "name": "stdout",
     "output_type": "stream",
     "text": [
      "Has fallado\n"
     ]
    }
   ],
   "source": [
    "# palabra_adivinar = input(\"Introduzca la palabra a adivinar\").upper()\n",
    "\n",
    "# palabra_intento = input(\"Introduzca la letra\").upper()\n",
    "\n",
    "# if palabra_intento == palabra_adivinar:\n",
    "#     print(\"Has ganado\")\n",
    "#     print(palabra_adivinar)\n",
    "# else:\n",
    "#     print(\"Has fallado\")\n"
   ]
  },
  {
   "cell_type": "code",
   "execution_count": 12,
   "metadata": {},
   "outputs": [],
   "source": [
    "a = 1"
   ]
  },
  {
   "cell_type": "code",
   "execution_count": 13,
   "metadata": {},
   "outputs": [
    {
     "data": {
      "text/plain": [
       "3"
      ]
     },
     "execution_count": 13,
     "metadata": {},
     "output_type": "execute_result"
    }
   ],
   "source": [
    "a * 3"
   ]
  },
  {
   "cell_type": "code",
   "execution_count": 14,
   "metadata": {},
   "outputs": [],
   "source": [
    "a = 2 \n"
   ]
  },
  {
   "cell_type": "code",
   "execution_count": null,
   "metadata": {},
   "outputs": [],
   "source": []
  }
 ],
 "metadata": {
  "interpreter": {
   "hash": "7c77fdb427e7cbc9bc1367dd530fc2b36aacdbbde1ac83c85833b10dfa8b831c"
  },
  "kernelspec": {
   "display_name": "Python 3.7.4 64-bit",
   "language": "python",
   "name": "python3"
  },
  "language_info": {
   "codemirror_mode": {
    "name": "ipython",
    "version": 3
   },
   "file_extension": ".py",
   "mimetype": "text/x-python",
   "name": "python",
   "nbconvert_exporter": "python",
   "pygments_lexer": "ipython3",
   "version": "3.7.4"
  },
  "orig_nbformat": 4
 },
 "nbformat": 4,
 "nbformat_minor": 2
}
