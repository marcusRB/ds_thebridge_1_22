{
 "cells": [
  {
   "cell_type": "code",
   "execution_count": null,
   "metadata": {},
   "outputs": [
    {
     "name": "stdout",
     "output_type": "stream",
     "text": [
      "Has fallado, llevas 1 fallos\n",
      "Game over\n",
      "_ _ _ _ _ _ _ _\n"
     ]
    }
   ],
   "source": [
    "from funciones import play_ahorcado\n",
    "\n",
    "palabra_adivinar = input(\"Introduzca la palabra a adivinar\").upper()\n",
    "play_ahorcado(palabra_adivinar, 1)"
   ]
  },
  {
   "cell_type": "code",
   "execution_count": null,
   "metadata": {},
   "outputs": [
    {
     "data": {
      "text/plain": [
       "['_', '_', '_', '_', '_', '_', '_', '_']"
      ]
     },
     "metadata": {},
     "output_type": "display_data"
    }
   ],
   "source": [
    "from otro.otras_funciones import hide_characters\n",
    "\n",
    "hide_characters(\"bootcamp\")"
   ]
  }
 ],
 "metadata": {
  "language_info": {
   "name": "python"
  },
  "orig_nbformat": 4
 },
 "nbformat": 4,
 "nbformat_minor": 2
}
