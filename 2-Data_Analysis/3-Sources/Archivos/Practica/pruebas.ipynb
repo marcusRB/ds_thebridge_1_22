{
 "cells": [
  {
   "cell_type": "code",
   "execution_count": null,
   "metadata": {},
   "outputs": [],
   "source": [
    "# import os\n",
    "# os.getcwd() # Me da el path actual\n",
    "# os.chdir() # Me cambia el path\n",
    "# os.path.join() # Uno dos partes de un path\n",
    "# os.listdir() # Me devuelve todos los archivos de un path\n",
    "# os.mkdir() # Crea una carpeta\n",
    "# os.rmdir() # Elimina una carpeta\n",
    "\n",
    "# import shutil\n",
    "# shutil.move() # Mueve un archivo"
   ]
  },
  {
   "cell_type": "code",
   "execution_count": 1,
   "metadata": {},
   "outputs": [
    {
     "data": {
      "text/plain": [
       "'c:\\\\Users\\\\Miguel Angel\\\\Documents\\\\Bootcamp_DS_1_22\\\\ds_thebridge_1_22\\\\2-Data_Analysis\\\\3-Sources\\\\Archivos\\\\Practica'"
      ]
     },
     "execution_count": 1,
     "metadata": {},
     "output_type": "execute_result"
    }
   ],
   "source": [
    "import os\n",
    "\n",
    "os.getcwd()"
   ]
  },
  {
   "cell_type": "code",
   "execution_count": 3,
   "metadata": {},
   "outputs": [
    {
     "data": {
      "text/plain": [
       "'C:\\\\Users\\\\Miguel Angel\\\\Documents\\\\Bootcamp_DS_1_22\\\\ds_thebridge_1_22\\\\2-Data_Analysis\\\\3-Sources\\\\Archivos\\\\Practica\\\\directorio_prueba'"
      ]
     },
     "execution_count": 3,
     "metadata": {},
     "output_type": "execute_result"
    }
   ],
   "source": [
    "os.chdir('C:/Users/Miguel Angel/Documents/Bootcamp_DS_1_22/ds_thebridge_1_22/2-Data_Analysis/3-Sources/Archivos/Practica/directorio_prueba')\n",
    "os.getcwd()"
   ]
  },
  {
   "cell_type": "code",
   "execution_count": 4,
   "metadata": {},
   "outputs": [
    {
     "data": {
      "text/plain": [
       "['Captura.PNG',\n",
       " 'GUIA COMPLETA DATA SCIENCE FULL TIME Intake 02.22.pdf',\n",
       " 'PERFILES ALUMNOS INTAKE FEBRERO 2022.xlsx',\n",
       " 'ScreenToGif.2.36.Setup.x64.msi',\n",
       " 'Taller DS.pdf']"
      ]
     },
     "execution_count": 4,
     "metadata": {},
     "output_type": "execute_result"
    }
   ],
   "source": [
    "os.listdir()"
   ]
  },
  {
   "cell_type": "code",
   "execution_count": 5,
   "metadata": {},
   "outputs": [
    {
     "name": "stdout",
     "output_type": "stream",
     "text": [
      "Captura.PNG\n",
      "GUIA COMPLETA DATA SCIENCE FULL TIME Intake 02.22.pdf\n",
      "PERFILES ALUMNOS INTAKE FEBRERO 2022.xlsx\n",
      "ScreenToGif.2.36.Setup.x64.msi\n",
      "Taller DS.pdf\n"
     ]
    }
   ],
   "source": [
    "for archivo in os.listdir():\n",
    "    print(archivo)"
   ]
  },
  {
   "cell_type": "code",
   "execution_count": 12,
   "metadata": {},
   "outputs": [],
   "source": [
    "doc_types = ('.doc', '.docx', '.txt', '.pdf', '.xls', '.ppt', '.xlsx', '.pptx')\n",
    "img_types = ('.jpg', '.jpeg', '.png', '.svg', '.gif', '.tif', '.tiff')\n",
    "software_types = ('.exe', '.pkg', '.dmg')"
   ]
  },
  {
   "cell_type": "code",
   "execution_count": 13,
   "metadata": {},
   "outputs": [],
   "source": [
    "os.makedirs('images', exist_ok = True)\n",
    "os.makedirs('documents', exist_ok = True)\n",
    "os.makedirs('software', exist_ok = True)\n",
    "os.makedirs('others', exist_ok = True)"
   ]
  },
  {
   "cell_type": "code",
   "execution_count": 26,
   "metadata": {},
   "outputs": [],
   "source": [
    "import shutil"
   ]
  },
  {
   "cell_type": "code",
   "execution_count": 14,
   "metadata": {},
   "outputs": [
    {
     "name": "stdout",
     "output_type": "stream",
     "text": [
      "Captura.PNG\n",
      "documents\n",
      "GUIA COMPLETA DATA SCIENCE FULL TIME Intake 02.22.pdf\n",
      "images\n",
      "others\n",
      "PERFILES ALUMNOS INTAKE FEBRERO 2022.xlsx\n",
      "ScreenToGif.2.36.Setup.x64.msi\n",
      "software\n",
      "Taller DS.pdf\n"
     ]
    }
   ],
   "source": [
    "for archivo in os.listdir():\n",
    "    print(archivo)"
   ]
  },
  {
   "cell_type": "code",
   "execution_count": 15,
   "metadata": {},
   "outputs": [
    {
     "data": {
      "text/plain": [
       "'C:\\\\Users\\\\Miguel Angel\\\\Documents\\\\Bootcamp_DS_1_22\\\\ds_thebridge_1_22\\\\2-Data_Analysis\\\\3-Sources\\\\Archivos\\\\Practica\\\\directorio_prueba'"
      ]
     },
     "execution_count": 15,
     "metadata": {},
     "output_type": "execute_result"
    }
   ],
   "source": [
    "os.getcwd()"
   ]
  },
  {
   "cell_type": "code",
   "execution_count": 22,
   "metadata": {},
   "outputs": [
    {
     "data": {
      "text/plain": [
       "'C:\\\\Users\\\\Miguel Angel\\\\Documents\\\\Bootcamp_DS_1_22\\\\ds_thebridge_1_22\\\\2-Data_Analysis\\\\3-Sources\\\\Archivos\\\\Practica\\\\directorio_prueba\\\\Taller DS.pdf'"
      ]
     },
     "execution_count": 22,
     "metadata": {},
     "output_type": "execute_result"
    }
   ],
   "source": [
    "os.path.join(os.getcwd(),archivo)"
   ]
  },
  {
   "cell_type": "code",
   "execution_count": null,
   "metadata": {},
   "outputs": [],
   "source": [
    "os.path.isdir(os.path.join(os.getcwd()+archivo))"
   ]
  },
  {
   "cell_type": "code",
   "execution_count": 31,
   "metadata": {},
   "outputs": [
    {
     "name": "stdout",
     "output_type": "stream",
     "text": [
      "Captura.PNG :es un archivo\n",
      "documents :es una carpeta\n",
      "images :es una carpeta\n",
      "others :es una carpeta\n",
      "software :es una carpeta\n"
     ]
    }
   ],
   "source": [
    "for archivo in os.listdir():\n",
    "    # archivo = archivo.lower()\n",
    "    if not os.path.isdir(os.path.join(os.getcwd(),archivo)):\n",
    "        print(archivo, \":es un archivo\")\n",
    "        if archivo.lower().endswith(doc_types):\n",
    "            shutil.move(archivo,'documents')\n",
    "        elif archivo.lower().endswith(img_types):\n",
    "            shutil.move(archivo,'images')\n",
    "        elif archivo.lower().endswith(software_types):\n",
    "            shutil.move(archivo,'software')\n",
    "        else:\n",
    "            shutil.move(archivo,'others')\n",
    "    else:\n",
    "        print(archivo, \":es una carpeta\")"
   ]
  },
  {
   "cell_type": "code",
   "execution_count": null,
   "metadata": {},
   "outputs": [],
   "source": []
  },
  {
   "cell_type": "code",
   "execution_count": null,
   "metadata": {},
   "outputs": [],
   "source": []
  },
  {
   "cell_type": "code",
   "execution_count": 43,
   "metadata": {},
   "outputs": [
    {
     "name": "stdout",
     "output_type": "stream",
     "text": [
      "(200, 300)\n",
      "50.0\n"
     ]
    }
   ],
   "source": [
    "ahorro = 100 \n",
    "\n",
    "def ahorro_prox_meses(a):\n",
    "    global ahorro\n",
    "    ahorro = ahorro/2\n",
    "    b = a * 2\n",
    "    c = a * 3\n",
    "    return b, c\n",
    "\n",
    "ahorro_prox = ahorro_prox_meses(ahorro)\n",
    "print(ahorro_prox)\n",
    "print(ahorro)"
   ]
  },
  {
   "cell_type": "code",
   "execution_count": 42,
   "metadata": {},
   "outputs": [
    {
     "name": "stdout",
     "output_type": "stream",
     "text": [
      "200\n"
     ]
    }
   ],
   "source": [
    "print(b)"
   ]
  },
  {
   "cell_type": "code",
   "execution_count": null,
   "metadata": {},
   "outputs": [],
   "source": []
  }
 ],
 "metadata": {
  "language_info": {
   "name": "python"
  },
  "orig_nbformat": 4
 },
 "nbformat": 4,
 "nbformat_minor": 2
}
