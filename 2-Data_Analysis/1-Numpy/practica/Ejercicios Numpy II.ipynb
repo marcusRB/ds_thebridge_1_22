{
 "cells": [
  {
   "cell_type": "markdown",
   "source": [
    "![imagen](./img/ejercicios.png)"
   ],
   "metadata": {}
  },
  {
   "cell_type": "markdown",
   "source": [
    "## Ejercicio 1\r\n",
    "1. Crea un array que vaya del 0 al 9 y que se llame `my_array`\r\n",
    "2. Imprime por pantalla los elementos [9 7 5 3 1] en ese orden."
   ],
   "metadata": {}
  },
  {
   "cell_type": "code",
   "execution_count": null,
   "source": [],
   "outputs": [],
   "metadata": {}
  },
  {
   "cell_type": "markdown",
   "source": [
    "## Ejercicio 2\r\n",
    "Imprime por pantalla la secuencia [8 7] del array `my_array`"
   ],
   "metadata": {}
  },
  {
   "cell_type": "code",
   "execution_count": null,
   "source": [],
   "outputs": [],
   "metadata": {}
  },
  {
   "cell_type": "markdown",
   "source": [
    "## Ejercicio 3\r\n",
    "Imprime por pantalla la secuencia [2 1 0] de `my_array`"
   ],
   "metadata": {}
  },
  {
   "cell_type": "code",
   "execution_count": null,
   "source": [],
   "outputs": [],
   "metadata": {}
  },
  {
   "cell_type": "markdown",
   "source": [
    "## Ejercicio 4\r\n",
    "1. Crea una matriz de 4x5, con una secuencia del 1 al 20\r\n",
    "2. Invierte totalmente la matriz. Tanto las filas, como las columnas"
   ],
   "metadata": {}
  },
  {
   "cell_type": "code",
   "execution_count": null,
   "source": [],
   "outputs": [],
   "metadata": {}
  },
  {
   "cell_type": "markdown",
   "source": [
    "## Ejercicio 5\r\n",
    "\r\n",
    "Obtén el siguiente array, partiendo de la matriz del ejercicio 4\r\n",
    "```Python\r\n",
    "array([[1, 2],\r\n",
    "       [6, 7]])\r\n",
    "```"
   ],
   "metadata": {}
  },
  {
   "cell_type": "code",
   "execution_count": null,
   "source": [],
   "outputs": [],
   "metadata": {}
  },
  {
   "cell_type": "markdown",
   "source": [
    "## Ejercicio 6\r\n",
    "Obtén el siguiente array, partiendo de la matriz del ejercicio 4\r\n",
    "```Python\r\n",
    "array([[ 1,  3,  5],\r\n",
    "       [11, 13, 15]])\r\n",
    "```"
   ],
   "metadata": {}
  },
  {
   "cell_type": "code",
   "execution_count": null,
   "source": [],
   "outputs": [],
   "metadata": {}
  },
  {
   "cell_type": "markdown",
   "source": [
    "## Ejercicio 7\r\n",
    "Obtén el siguiente array, partiendo de la matriz del ejercicio 4\r\n",
    "```Python\r\n",
    "array([[ 5,  4,  3,  2,  1],\r\n",
    "       [10,  9,  8,  7,  6],\r\n",
    "       [15, 14, 13, 12, 11]])\r\n",
    "```"
   ],
   "metadata": {}
  },
  {
   "cell_type": "code",
   "execution_count": 2,
   "source": [
    "import numpy as np"
   ],
   "outputs": [],
   "metadata": {}
  },
  {
   "cell_type": "markdown",
   "source": [
    "## Ejercicio 8\r\n",
    "Dado el siguiente array:\r\n",
    "\r\n",
    "```Python\r\n",
    "x = np.array([\"Loro\", \"Perro\", \"Gato\", \"Loro\", \"Perro\"])\r\n",
    "```\r\n",
    "\r\n",
    "Filtra el array para quedarte únicamente con los loros.\r\n",
    "\r\n",
    "Resuélvelo de dos maneras diferentes"
   ],
   "metadata": {}
  },
  {
   "cell_type": "code",
   "execution_count": null,
   "source": [],
   "outputs": [],
   "metadata": {}
  },
  {
   "cell_type": "markdown",
   "source": [
    "## Ejercicio 9\r\n",
    "Crea una secuencia de 20 elementos y transformala en un array compuesto por 2 matrices de 5x2"
   ],
   "metadata": {}
  },
  {
   "cell_type": "code",
   "execution_count": null,
   "source": [],
   "outputs": [],
   "metadata": {}
  },
  {
   "cell_type": "markdown",
   "source": [
    "## Ejercicio 10\r\n",
    "Obtén el siguiente array, partiendo de la matriz del ejercicio 4\r\n",
    "```Python\r\n",
    "array([[20, 19, 18, 17, 16],\r\n",
    "       [15, 14, 13, 12, 11],\r\n",
    "       [10,  9,  8,  7,  6],\r\n",
    "       [ 5,  4,  3,  2,  1]])\r\n",
    "```"
   ],
   "metadata": {}
  },
  {
   "cell_type": "code",
   "execution_count": null,
   "source": [],
   "outputs": [],
   "metadata": {}
  },
  {
   "cell_type": "markdown",
   "source": [
    "## Ejercicio 11\r\n",
    "Crea un array de 10 0s. ¿Cuánto ocupa en memoria?\r\n",
    "\r\n",
    "Sustituye el 4to elemento por 1, e imprime el array por pantalla"
   ],
   "metadata": {}
  },
  {
   "cell_type": "code",
   "execution_count": null,
   "source": [],
   "outputs": [],
   "metadata": {}
  },
  {
   "cell_type": "markdown",
   "source": [
    "## Ejercicio 12\r\n",
    "Crea un vector que vaya del 10 al 49\r\n",
    "\r\n",
    "Inviértelo"
   ],
   "metadata": {}
  },
  {
   "cell_type": "code",
   "execution_count": null,
   "source": [],
   "outputs": [],
   "metadata": {}
  },
  {
   "cell_type": "markdown",
   "source": [
    "## Ejericio 13\r\n",
    "Encuentra los indices de los valores que no sean 0 del siguiente vector [1,2,0,0,4,0]. El output sería [0, 1, 4]. [Encuentra el método apropiado en la documentación.](https://numpy.org/doc/)"
   ],
   "metadata": {}
  },
  {
   "cell_type": "code",
   "execution_count": null,
   "source": [],
   "outputs": [],
   "metadata": {}
  },
  {
   "cell_type": "markdown",
   "source": [
    "## Ejercicio 14\r\n",
    "Crea una matriz de numeros aleatorios 10x10. Encuentra los valores mínimo y máximo."
   ],
   "metadata": {}
  },
  {
   "cell_type": "code",
   "execution_count": null,
   "source": [],
   "outputs": [],
   "metadata": {}
  },
  {
   "cell_type": "markdown",
   "source": [
    "## Ejercicio 15\r\n",
    "Crea un vector aleatorio de tamaño 30 y calcula su media"
   ],
   "metadata": {}
  },
  {
   "cell_type": "code",
   "execution_count": null,
   "source": [],
   "outputs": [],
   "metadata": {}
  },
  {
   "cell_type": "markdown",
   "source": [
    "## Ejercicio 16\r\n",
    "Crea un array cuadrado de 2D, con las dimensiones que quiras, pero que todo el borde esté compuesto por 1s, y el interior por 0s"
   ],
   "metadata": {}
  },
  {
   "cell_type": "code",
   "execution_count": null,
   "source": [],
   "outputs": [],
   "metadata": {}
  },
  {
   "cell_type": "markdown",
   "source": [
    "## Ejercicio 17\r\n",
    "Crea una mtriz de 8x8, y rellénala con 0s y 1s. Tienes que replicar:\r\n",
    "```Python\r\n",
    "[[0 1 0 1 0 1 0 1]\r\n",
    " [1 0 1 0 1 0 1 0]\r\n",
    " [0 1 0 1 0 1 0 1]\r\n",
    " [1 0 1 0 1 0 1 0]\r\n",
    " [0 1 0 1 0 1 0 1]\r\n",
    " [1 0 1 0 1 0 1 0]\r\n",
    " [0 1 0 1 0 1 0 1]\r\n",
    " [1 0 1 0 1 0 1 0]]\r\n",
    "```"
   ],
   "metadata": {}
  },
  {
   "cell_type": "code",
   "execution_count": null,
   "source": [],
   "outputs": [],
   "metadata": {}
  },
  {
   "cell_type": "markdown",
   "source": [
    "## Ejercicio 18\r\n",
    "Replica la matriz del apartado anterior, pero en este caso usando [la función `tile`](https://numpy.org/doc/stable/reference/generated/numpy.tile.html)"
   ],
   "metadata": {}
  },
  {
   "cell_type": "code",
   "execution_count": null,
   "source": [],
   "outputs": [],
   "metadata": {}
  },
  {
   "cell_type": "markdown",
   "source": [
    "## Ejercicio 9\r\n",
    "Crea una matriz aleatoria de 5x5 y normaliza sus valores. Para normalizar tienes que restar sus valores por la media(`np.mean`) y dividir el resultado por la desviación estándar(`np.std`)."
   ],
   "metadata": {}
  },
  {
   "cell_type": "code",
   "execution_count": null,
   "source": [],
   "outputs": [],
   "metadata": {}
  },
  {
   "cell_type": "markdown",
   "source": [
    "## Ejercicio 10\r\n",
    "1. Crea una secuencia de números que vayan del 0 al 10.\r\n",
    "2. Crea un nuevo array, que parta del anterior, pero sustituya todos los elementos entre el 3 y el 8, por el valor -1\r\n",
    "3. Crea un nuevo array que niegue todos los elementos entre el 3 y el 8"
   ],
   "metadata": {}
  },
  {
   "cell_type": "code",
   "execution_count": null,
   "source": [],
   "outputs": [],
   "metadata": {}
  },
  {
   "cell_type": "markdown",
   "source": [
    "## Ejercicio 11\r\n",
    "#### Bonus track. Mini hundir la flota\r\n",
    "1. Crea un tablero de 10x10 relleno del carácter espacio ( ).\r\n",
    "2. Posiciona un par de barcos en [(0,1), (1,1)] y [(1,3), (1,4), (1,5), (1,6)]. Los barcos serán Os mayúsculas. Como ves, un barco de dos posiciones de eslora y otro de cuatro.\r\n",
    "3. Recibe un disparo en uno de los barcos, sustituyendo la O por una X\r\n",
    "4. Recibe un disparo en agua, sustituyendo uno de los espacios por un guión: -\r\n",
    "5. Ignorando los disparos recibidos, ahora prueba a posicionar otro barco de 4 posiciones dentro del tablero, pero **de manera ALEATORIA.**\r\n",
    "\r\n",
    "**TIP apartado 5**: El barco tendrá una posición inicial aleatoria dentro del tablero, y una orientación también aleatoria (N,S,E,O).\r\n",
    "\r\n",
    "Por ejemplo, si tu posicion inicial fuese (5,0) y la orientación O, no podrias ponerlo porque se sale del tablero. Ahora bien, si fuese orientación este, si podrías, y ocuparía las posiciones [(5,0), (5,1), (5,2), (5,3)]. Por tanto tendrás que iterar con un bucle si es posible encajar el barco en el tablero, y el bucle terminará cuando lo consigas encajar. **Ojo con las posiciones donde ya hay barco!!!**\r\n",
    "\r\n",
    "Usa `import random` para elegir las coordenadas aleatorias."
   ],
   "metadata": {}
  },
  {
   "cell_type": "code",
   "execution_count": null,
   "source": [],
   "outputs": [],
   "metadata": {}
  },
  {
   "cell_type": "code",
   "execution_count": null,
   "source": [],
   "outputs": [],
   "metadata": {}
  },
  {
   "cell_type": "code",
   "execution_count": null,
   "source": [],
   "outputs": [],
   "metadata": {}
  },
  {
   "cell_type": "code",
   "execution_count": null,
   "source": [],
   "outputs": [],
   "metadata": {}
  }
 ],
 "metadata": {
  "kernelspec": {
   "name": "python3",
   "display_name": "Python 3.7.4 64-bit"
  },
  "language_info": {
   "codemirror_mode": {
    "name": "ipython",
    "version": 3
   },
   "file_extension": ".py",
   "mimetype": "text/x-python",
   "name": "python",
   "nbconvert_exporter": "python",
   "pygments_lexer": "ipython3",
   "version": "3.7.4"
  },
  "interpreter": {
   "hash": "7c77fdb427e7cbc9bc1367dd530fc2b36aacdbbde1ac83c85833b10dfa8b831c"
  }
 },
 "nbformat": 4,
 "nbformat_minor": 4
}